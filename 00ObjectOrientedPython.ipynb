{
  "nbformat": 4,
  "nbformat_minor": 0,
  "metadata": {
    "colab": {
      "provenance": [],
      "authorship_tag": "ABX9TyN471PgX9wXSDL9D6x4w2pR",
      "include_colab_link": true
    },
    "kernelspec": {
      "name": "python3",
      "display_name": "Python 3"
    },
    "language_info": {
      "name": "python"
    }
  },
  "cells": [
    {
      "cell_type": "markdown",
      "metadata": {
        "id": "view-in-github",
        "colab_type": "text"
      },
      "source": [
        "<a href=\"https://colab.research.google.com/github/pareshrchaudhary/numericalmethods/blob/main/00ObjectOrientedPython.ipynb\" target=\"_parent\"><img src=\"https://colab.research.google.com/assets/colab-badge.svg\" alt=\"Open In Colab\"/></a>"
      ]
    },
    {
      "cell_type": "markdown",
      "source": [
        "# Object Oriented Programming"
      ],
      "metadata": {
        "id": "Q_qOHPpzIKdt"
      }
    },
    {
      "cell_type": "markdown",
      "source": [
        "The main use of object oriented programming is to increase resuability and modularity of the code. It contains **classes** and **objects**.\n",
        "\n",
        "The functions inside a class are called methods and data associated with objects are called attributes.\n",
        "\n",
        "Three main pillars of OOP are-\n",
        "\n",
        "1.   Inheritance\n",
        "> Create new classes from existing class without modifying it\n",
        "\n",
        "2.   Encapsulation\n",
        "> Hiding private details of a class from other objects\n",
        "\n",
        "3.   Polymorphism\n",
        "> Using common operation in different ways for different data input\n",
        "\n",
        "\n",
        "\n",
        "\n"
      ],
      "metadata": {
        "id": "NbAdGthiE2Zx"
      }
    },
    {
      "cell_type": "markdown",
      "source": [
        "## 1) Object and Method\n",
        "First a simple introduction to Object and Method and then simplest Numpy like class that can add, subtract, multiply and divide."
      ],
      "metadata": {
        "id": "tET143s5CwNO"
      }
    },
    {
      "cell_type": "markdown",
      "source": [
        "### Introduction"
      ],
      "metadata": {
        "id": "LOG15X0-UHlv"
      }
    },
    {
      "cell_type": "code",
      "execution_count": 75,
      "metadata": {
        "id": "rWSY3jachWwN"
      },
      "outputs": [],
      "source": [
        "class People():\n",
        "    def __init__(self, name, age):\n",
        "        self.name = name\n",
        "        self.age = age\n",
        "\n",
        "    def future_age(self, number):\n",
        "        print(self.name + \"'s age after\", number, \"years is\", self.age + number)"
      ]
    },
    {
      "cell_type": "markdown",
      "source": [
        "**Creating an instance**"
      ],
      "metadata": {
        "id": "5RvMmWepITHj"
      }
    },
    {
      "cell_type": "code",
      "source": [
        "person1 = People(name = \"roger\", age = 25)"
      ],
      "metadata": {
        "id": "p-z2IuomDOg-"
      },
      "execution_count": 76,
      "outputs": []
    },
    {
      "cell_type": "code",
      "source": [
        "type(person1)"
      ],
      "metadata": {
        "colab": {
          "base_uri": "https://localhost:8080/"
        },
        "id": "qfVKX3NYJuek",
        "outputId": "60bf6e76-4558-49d0-e733-23d52ef835e6"
      },
      "execution_count": 77,
      "outputs": [
        {
          "output_type": "execute_result",
          "data": {
            "text/plain": [
              "__main__.People"
            ]
          },
          "metadata": {},
          "execution_count": 77
        }
      ]
    },
    {
      "cell_type": "code",
      "source": [
        "id(person1) # Unique identifier of the object"
      ],
      "metadata": {
        "colab": {
          "base_uri": "https://localhost:8080/"
        },
        "id": "inB4ynr3Ivhg",
        "outputId": "5e720826-03f1-495a-cda9-a60774b7bad4"
      },
      "execution_count": 78,
      "outputs": [
        {
          "output_type": "execute_result",
          "data": {
            "text/plain": [
              "139901732566736"
            ]
          },
          "metadata": {},
          "execution_count": 78
        }
      ]
    },
    {
      "cell_type": "markdown",
      "source": [
        "**Checking attributes**"
      ],
      "metadata": {
        "id": "-wsjIPQtJ_lu"
      }
    },
    {
      "cell_type": "code",
      "source": [
        "person1.name"
      ],
      "metadata": {
        "colab": {
          "base_uri": "https://localhost:8080/",
          "height": 35
        },
        "id": "WE1eKPGODlgE",
        "outputId": "9a935d90-2041-4274-96b2-264b5e95c5fc"
      },
      "execution_count": 79,
      "outputs": [
        {
          "output_type": "execute_result",
          "data": {
            "text/plain": [
              "'roger'"
            ],
            "application/vnd.google.colaboratory.intrinsic+json": {
              "type": "string"
            }
          },
          "metadata": {},
          "execution_count": 79
        }
      ]
    },
    {
      "cell_type": "code",
      "source": [
        "person1.age"
      ],
      "metadata": {
        "colab": {
          "base_uri": "https://localhost:8080/"
        },
        "id": "jrLAAbh2Dn34",
        "outputId": "e928262d-4079-4f3b-a3d7-85a6c9a5790a"
      },
      "execution_count": 80,
      "outputs": [
        {
          "output_type": "execute_result",
          "data": {
            "text/plain": [
              "25"
            ]
          },
          "metadata": {},
          "execution_count": 80
        }
      ]
    },
    {
      "cell_type": "markdown",
      "source": [
        "**Checking methods inside the class**"
      ],
      "metadata": {
        "id": "HlV3RXtHJyMf"
      }
    },
    {
      "cell_type": "code",
      "source": [
        "dir(person1)"
      ],
      "metadata": {
        "colab": {
          "base_uri": "https://localhost:8080/"
        },
        "id": "If5cqtRBIxkG",
        "outputId": "5c614d74-51e9-443c-e1fb-1c38fa936bbb"
      },
      "execution_count": 66,
      "outputs": [
        {
          "output_type": "execute_result",
          "data": {
            "text/plain": [
              "['__class__',\n",
              " '__delattr__',\n",
              " '__dict__',\n",
              " '__dir__',\n",
              " '__doc__',\n",
              " '__eq__',\n",
              " '__format__',\n",
              " '__ge__',\n",
              " '__getattribute__',\n",
              " '__gt__',\n",
              " '__hash__',\n",
              " '__init__',\n",
              " '__init_subclass__',\n",
              " '__le__',\n",
              " '__lt__',\n",
              " '__module__',\n",
              " '__ne__',\n",
              " '__new__',\n",
              " '__reduce__',\n",
              " '__reduce_ex__',\n",
              " '__repr__',\n",
              " '__setattr__',\n",
              " '__sizeof__',\n",
              " '__str__',\n",
              " '__subclasshook__',\n",
              " '__weakref__',\n",
              " 'age',\n",
              " 'future_age',\n",
              " 'name']"
            ]
          },
          "metadata": {},
          "execution_count": 66
        }
      ]
    },
    {
      "cell_type": "code",
      "source": [
        "person1.__dir__ #hidden method"
      ],
      "metadata": {
        "colab": {
          "base_uri": "https://localhost:8080/"
        },
        "id": "h_aUjYV1KU8U",
        "outputId": "1810fbe8-bfb4-4529-8485-215dc49b5dec"
      },
      "execution_count": 70,
      "outputs": [
        {
          "output_type": "execute_result",
          "data": {
            "text/plain": [
              "<function People.__dir__()>"
            ]
          },
          "metadata": {},
          "execution_count": 70
        }
      ]
    },
    {
      "cell_type": "code",
      "source": [
        "person1.__class__ #hidden method"
      ],
      "metadata": {
        "colab": {
          "base_uri": "https://localhost:8080/"
        },
        "id": "9dZKVD_zKM-o",
        "outputId": "85ec4e08-46a8-4de2-d08c-4b041746e12d"
      },
      "execution_count": 74,
      "outputs": [
        {
          "output_type": "execute_result",
          "data": {
            "text/plain": [
              "__main__.People"
            ]
          },
          "metadata": {},
          "execution_count": 74
        }
      ]
    },
    {
      "cell_type": "code",
      "source": [
        "person1.future_age"
      ],
      "metadata": {
        "colab": {
          "base_uri": "https://localhost:8080/"
        },
        "id": "g8FA-nbJKEiI",
        "outputId": "c60cde1e-f125-470c-c426-3729abf4e1ee"
      },
      "execution_count": 72,
      "outputs": [
        {
          "output_type": "execute_result",
          "data": {
            "text/plain": [
              "<bound method People.future_age of <__main__.People object at 0x7f3d79812e90>>"
            ]
          },
          "metadata": {},
          "execution_count": 72
        }
      ]
    },
    {
      "cell_type": "code",
      "source": [
        "person1.future_age(4)"
      ],
      "metadata": {
        "colab": {
          "base_uri": "https://localhost:8080/"
        },
        "id": "_EVr2deUDpnJ",
        "outputId": "a605f8ab-4209-438f-9aa7-446637e67580"
      },
      "execution_count": 73,
      "outputs": [
        {
          "output_type": "stream",
          "name": "stdout",
          "text": [
            "roger's age after 4 years is 29\n"
          ]
        }
      ]
    },
    {
      "cell_type": "markdown",
      "source": [
        "### Simplest Numpy"
      ],
      "metadata": {
        "id": "mqCcUUxiUMNZ"
      }
    },
    {
      "cell_type": "code",
      "source": [
        "class Array:\n",
        "    def __init__(self, data):\n",
        "        self.data = data\n",
        "\n",
        "    def __repr__(self):\n",
        "        return f\"Array({self.data})\"\n",
        "\n",
        "    def __add__(self, other):\n",
        "        if isinstance(other, Array):\n",
        "            if len(self.data) == len(other.data):\n",
        "                result = [a + b for a, b in zip(self.data, other.data)]\n",
        "                return Array(result)\n",
        "            else:\n",
        "                raise ValueError(\"Arrays must have the same length.\")\n",
        "        else:\n",
        "            raise TypeError(\"Unsupported operand type for +.\")\n",
        "\n",
        "    def __sub__(self, other):\n",
        "        if isinstance(other, Array):\n",
        "            if len(self.data) == len(other.data):\n",
        "                result = [a - b for a, b in zip(self.data, other.data)]\n",
        "                return Array(result)\n",
        "            else:\n",
        "                raise ValueError(\"Arrays must have the same length.\")\n",
        "        else:\n",
        "            raise TypeError(\"Unsupported operand type for -.\")\n",
        "\n",
        "    def __mul__(self, other):\n",
        "        if isinstance(other, (int, float)):\n",
        "            result = [a * other for a in self.data]\n",
        "            return Array(result)\n",
        "        else:\n",
        "            raise TypeError(\"Unsupported operand type for *.\")\n",
        "\n",
        "    def __truediv__(self, other):\n",
        "        if isinstance(other, (int, float)):\n",
        "            result = [a / other for a in self.data]\n",
        "            return Array(result)\n",
        "        else:\n",
        "            raise TypeError(\"Unsupported operand type for /.\")"
      ],
      "metadata": {
        "id": "FDHkKatZTia3"
      },
      "execution_count": 81,
      "outputs": []
    },
    {
      "cell_type": "code",
      "source": [
        "object1 = Array([2, 4, 6])\n",
        "object2 = Array([3, 5, 7])"
      ],
      "metadata": {
        "id": "nlHgq4ZpTN5h"
      },
      "execution_count": 87,
      "outputs": []
    },
    {
      "cell_type": "markdown",
      "source": [
        "**Addition**"
      ],
      "metadata": {
        "id": "x1_NGD9MU36W"
      }
    },
    {
      "cell_type": "code",
      "source": [
        "result = object1 + object2\n",
        "print(result)"
      ],
      "metadata": {
        "colab": {
          "base_uri": "https://localhost:8080/"
        },
        "id": "XGICnSZZUz2S",
        "outputId": "2b865914-c7f3-4a5f-886e-83d201012ff0"
      },
      "execution_count": 88,
      "outputs": [
        {
          "output_type": "stream",
          "name": "stdout",
          "text": [
            "Array([5, 9, 13])\n"
          ]
        }
      ]
    },
    {
      "cell_type": "markdown",
      "source": [
        "**Subtraction**"
      ],
      "metadata": {
        "id": "WX0_wCW8VLEr"
      }
    },
    {
      "cell_type": "code",
      "source": [
        "result = object1 - object2\n",
        "print(result)"
      ],
      "metadata": {
        "colab": {
          "base_uri": "https://localhost:8080/"
        },
        "id": "5ybMGlgDVFX6",
        "outputId": "e2b8077d-d7b7-4cf6-e92a-5f929c6e3fdb"
      },
      "execution_count": 89,
      "outputs": [
        {
          "output_type": "stream",
          "name": "stdout",
          "text": [
            "Array([-1, -1, -1])\n"
          ]
        }
      ]
    },
    {
      "cell_type": "markdown",
      "source": [
        "**Multiplication**"
      ],
      "metadata": {
        "id": "MGD30Q0YVduo"
      }
    },
    {
      "cell_type": "code",
      "source": [
        "result = object1 * 2\n",
        "print(result)"
      ],
      "metadata": {
        "colab": {
          "base_uri": "https://localhost:8080/"
        },
        "id": "u4WW8iNlVdVN",
        "outputId": "b0b7edcf-e4de-49b8-c794-fb5d7d1b1155"
      },
      "execution_count": 90,
      "outputs": [
        {
          "output_type": "stream",
          "name": "stdout",
          "text": [
            "Array([4, 8, 12])\n"
          ]
        }
      ]
    },
    {
      "cell_type": "markdown",
      "source": [
        "**Division**"
      ],
      "metadata": {
        "id": "3vQB8ueIVrcz"
      }
    },
    {
      "cell_type": "code",
      "source": [
        "result = object1 / 2\n",
        "print(result)"
      ],
      "metadata": {
        "colab": {
          "base_uri": "https://localhost:8080/"
        },
        "id": "mYAdHsOIVkeR",
        "outputId": "2a8c1cb1-2b24-4900-e1b7-bf8035022643"
      },
      "execution_count": 91,
      "outputs": [
        {
          "output_type": "stream",
          "name": "stdout",
          "text": [
            "Array([1.0, 2.0, 3.0])\n"
          ]
        }
      ]
    },
    {
      "cell_type": "markdown",
      "source": [
        "## 2) Inheritance"
      ],
      "metadata": {
        "id": "lZf9XYXJMRV7"
      }
    },
    {
      "cell_type": "code",
      "source": [],
      "metadata": {
        "id": "C4mR5RtEM2gd"
      },
      "execution_count": null,
      "outputs": []
    }
  ]
}