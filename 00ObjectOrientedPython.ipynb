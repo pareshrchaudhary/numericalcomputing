{
  "nbformat": 4,
  "nbformat_minor": 0,
  "metadata": {
    "colab": {
      "provenance": [],
      "authorship_tag": "ABX9TyPq3yLRhV4HkesWRAjs+E4S",
      "include_colab_link": true
    },
    "kernelspec": {
      "name": "python3",
      "display_name": "Python 3"
    },
    "language_info": {
      "name": "python"
    }
  },
  "cells": [
    {
      "cell_type": "markdown",
      "metadata": {
        "id": "view-in-github",
        "colab_type": "text"
      },
      "source": [
        "<a href=\"https://colab.research.google.com/github/pareshrchaudhary/numericalmethods/blob/main/00ObjectOrientedPython.ipynb\" target=\"_parent\"><img src=\"https://colab.research.google.com/assets/colab-badge.svg\" alt=\"Open In Colab\"/></a>"
      ]
    },
    {
      "cell_type": "markdown",
      "source": [
        "# Object Oriented Programming"
      ],
      "metadata": {
        "id": "Q_qOHPpzIKdt"
      }
    },
    {
      "cell_type": "markdown",
      "source": [
        "The main use of object oriented programming is to increase resuability and modularity of the code. It contains **classes** and **objects**.\n",
        "\n",
        "The functions inside a class are called methods and data associated with objects are called attributes.\n",
        "\n",
        "Three main pillars of OOP are-\n",
        "\n",
        "1.   Inheritance\n",
        "> Create new classes from existing class without modifying it\n",
        "\n",
        "2.   Encapsulation\n",
        "> Hiding private details of a class from other objects\n",
        "\n",
        "3.   Polymorphism\n",
        "> Using common operation in different ways for different data input\n",
        "\n",
        "\n",
        "\n",
        "\n"
      ],
      "metadata": {
        "id": "NbAdGthiE2Zx"
      }
    },
    {
      "cell_type": "markdown",
      "source": [
        "## 1) Object and Method\n",
        "First a simple introduction to Object and Method and then simplest Numpy like class that can add, subtract, multiply and divide."
      ],
      "metadata": {
        "id": "tET143s5CwNO"
      }
    },
    {
      "cell_type": "markdown",
      "source": [
        "### Introduction"
      ],
      "metadata": {
        "id": "LOG15X0-UHlv"
      }
    },
    {
      "cell_type": "code",
      "execution_count": 1,
      "metadata": {
        "id": "rWSY3jachWwN"
      },
      "outputs": [],
      "source": [
        "class People():\n",
        "    def __init__(self, name, age):\n",
        "        self.name = name\n",
        "        self.age = age\n",
        "\n",
        "    def future_age(self, number):\n",
        "        print(self.name + \"'s age after\", number, \"years is\", self.age + number)"
      ]
    },
    {
      "cell_type": "markdown",
      "source": [
        "**Creating an instance**"
      ],
      "metadata": {
        "id": "5RvMmWepITHj"
      }
    },
    {
      "cell_type": "code",
      "source": [
        "person1 = People(name = \"roger\", age = 25)"
      ],
      "metadata": {
        "id": "p-z2IuomDOg-"
      },
      "execution_count": 2,
      "outputs": []
    },
    {
      "cell_type": "code",
      "source": [
        "type(person1)"
      ],
      "metadata": {
        "colab": {
          "base_uri": "https://localhost:8080/"
        },
        "id": "qfVKX3NYJuek",
        "outputId": "e71e7b52-6036-4d2b-83aa-847d030beab6"
      },
      "execution_count": 3,
      "outputs": [
        {
          "output_type": "execute_result",
          "data": {
            "text/plain": [
              "__main__.People"
            ]
          },
          "metadata": {},
          "execution_count": 3
        }
      ]
    },
    {
      "cell_type": "code",
      "source": [
        "isinstance(person1, People) # Checking is object is of People class"
      ],
      "metadata": {
        "colab": {
          "base_uri": "https://localhost:8080/"
        },
        "id": "jEMuNWCKXpM9",
        "outputId": "d8831f2e-e159-4f19-b36c-2669bd94c86f"
      },
      "execution_count": 4,
      "outputs": [
        {
          "output_type": "execute_result",
          "data": {
            "text/plain": [
              "True"
            ]
          },
          "metadata": {},
          "execution_count": 4
        }
      ]
    },
    {
      "cell_type": "code",
      "source": [
        "id(person1) # Unique identifier of the object"
      ],
      "metadata": {
        "colab": {
          "base_uri": "https://localhost:8080/"
        },
        "id": "inB4ynr3Ivhg",
        "outputId": "c32444cf-37da-4686-d5a3-0a1798b48738"
      },
      "execution_count": 5,
      "outputs": [
        {
          "output_type": "execute_result",
          "data": {
            "text/plain": [
              "140694018400000"
            ]
          },
          "metadata": {},
          "execution_count": 5
        }
      ]
    },
    {
      "cell_type": "markdown",
      "source": [
        "**Checking attributes**"
      ],
      "metadata": {
        "id": "-wsjIPQtJ_lu"
      }
    },
    {
      "cell_type": "code",
      "source": [
        "person1.name"
      ],
      "metadata": {
        "colab": {
          "base_uri": "https://localhost:8080/",
          "height": 0
        },
        "id": "WE1eKPGODlgE",
        "outputId": "a24d1fd0-8089-4b2d-df15-905bf567d2c0"
      },
      "execution_count": 6,
      "outputs": [
        {
          "output_type": "execute_result",
          "data": {
            "text/plain": [
              "'roger'"
            ],
            "application/vnd.google.colaboratory.intrinsic+json": {
              "type": "string"
            }
          },
          "metadata": {},
          "execution_count": 6
        }
      ]
    },
    {
      "cell_type": "code",
      "source": [
        "person1.age"
      ],
      "metadata": {
        "colab": {
          "base_uri": "https://localhost:8080/"
        },
        "id": "jrLAAbh2Dn34",
        "outputId": "d7f75ea1-a806-41fd-9a71-e3e93fbdeb31"
      },
      "execution_count": 7,
      "outputs": [
        {
          "output_type": "execute_result",
          "data": {
            "text/plain": [
              "25"
            ]
          },
          "metadata": {},
          "execution_count": 7
        }
      ]
    },
    {
      "cell_type": "markdown",
      "source": [
        "**Checking methods inside the class**"
      ],
      "metadata": {
        "id": "HlV3RXtHJyMf"
      }
    },
    {
      "cell_type": "code",
      "source": [
        "dir(person1)"
      ],
      "metadata": {
        "colab": {
          "base_uri": "https://localhost:8080/"
        },
        "id": "If5cqtRBIxkG",
        "outputId": "7f74b5ba-2eef-450d-edb2-5e84ea846ddf"
      },
      "execution_count": 8,
      "outputs": [
        {
          "output_type": "execute_result",
          "data": {
            "text/plain": [
              "['__class__',\n",
              " '__delattr__',\n",
              " '__dict__',\n",
              " '__dir__',\n",
              " '__doc__',\n",
              " '__eq__',\n",
              " '__format__',\n",
              " '__ge__',\n",
              " '__getattribute__',\n",
              " '__gt__',\n",
              " '__hash__',\n",
              " '__init__',\n",
              " '__init_subclass__',\n",
              " '__le__',\n",
              " '__lt__',\n",
              " '__module__',\n",
              " '__ne__',\n",
              " '__new__',\n",
              " '__reduce__',\n",
              " '__reduce_ex__',\n",
              " '__repr__',\n",
              " '__setattr__',\n",
              " '__sizeof__',\n",
              " '__str__',\n",
              " '__subclasshook__',\n",
              " '__weakref__',\n",
              " 'age',\n",
              " 'future_age',\n",
              " 'name']"
            ]
          },
          "metadata": {},
          "execution_count": 8
        }
      ]
    },
    {
      "cell_type": "code",
      "source": [
        "person1.__dir__ #hidden method"
      ],
      "metadata": {
        "colab": {
          "base_uri": "https://localhost:8080/"
        },
        "id": "h_aUjYV1KU8U",
        "outputId": "5b984500-252f-4932-e95f-6d11573f1d38"
      },
      "execution_count": 9,
      "outputs": [
        {
          "output_type": "execute_result",
          "data": {
            "text/plain": [
              "<function People.__dir__()>"
            ]
          },
          "metadata": {},
          "execution_count": 9
        }
      ]
    },
    {
      "cell_type": "code",
      "source": [
        "person1.__class__ #hidden method"
      ],
      "metadata": {
        "colab": {
          "base_uri": "https://localhost:8080/"
        },
        "id": "9dZKVD_zKM-o",
        "outputId": "d81ecb5e-4ed3-4f12-856a-23b2989a0878"
      },
      "execution_count": 10,
      "outputs": [
        {
          "output_type": "execute_result",
          "data": {
            "text/plain": [
              "__main__.People"
            ]
          },
          "metadata": {},
          "execution_count": 10
        }
      ]
    },
    {
      "cell_type": "code",
      "source": [
        "person1.future_age"
      ],
      "metadata": {
        "colab": {
          "base_uri": "https://localhost:8080/"
        },
        "id": "g8FA-nbJKEiI",
        "outputId": "b6b8bf48-d327-464e-a7b8-d450291fed03"
      },
      "execution_count": 11,
      "outputs": [
        {
          "output_type": "execute_result",
          "data": {
            "text/plain": [
              "<bound method People.future_age of <__main__.People object at 0x7ff5e0fd1f00>>"
            ]
          },
          "metadata": {},
          "execution_count": 11
        }
      ]
    },
    {
      "cell_type": "code",
      "source": [
        "person1.future_age(4)"
      ],
      "metadata": {
        "colab": {
          "base_uri": "https://localhost:8080/"
        },
        "id": "_EVr2deUDpnJ",
        "outputId": "2fa3d186-18bb-401b-83af-4a7a0b390025"
      },
      "execution_count": 12,
      "outputs": [
        {
          "output_type": "stream",
          "name": "stdout",
          "text": [
            "roger's age after 4 years is 29\n"
          ]
        }
      ]
    },
    {
      "cell_type": "markdown",
      "source": [
        "### Simplest Numpy"
      ],
      "metadata": {
        "id": "mqCcUUxiUMNZ"
      }
    },
    {
      "cell_type": "code",
      "source": [
        "class Array:\n",
        "  def __init__(self, data):\n",
        "    self.data = data\n",
        "\n",
        "  def __repr__(self):\n",
        "    return f\"Array({self.data})\"\n",
        "\n",
        "  def __add__(self, other):\n",
        "    if isinstance(other, Array):\n",
        "      if len(self.data) == len(other.data):\n",
        "        result = [a + b for a, b in zip(self.data, other.data)]\n",
        "        return Array(result)\n",
        "      else:\n",
        "        raise ValueError(\"Arrays must have the same length.\")\n",
        "    else:\n",
        "      raise TypeError(\"Unsupported operand type for +.\")\n",
        "\n",
        "  def __sub__(self, other):\n",
        "    if isinstance(other, Array):\n",
        "      if len(self.data) == len(other.data):\n",
        "        result = [a - b for a, b in zip(self.data, other.data)]\n",
        "        return Array(result)\n",
        "      else:\n",
        "        raise ValueError(\"Arrays must have the same length.\")\n",
        "    else:\n",
        "      raise TypeError(\"Unsupported operand type for -.\")\n",
        "\n",
        "  def __mul__(self, other):\n",
        "    if isinstance(other, (int, float)):\n",
        "      result = [a * other for a in self.data]\n",
        "      return Array(result)\n",
        "    else:\n",
        "      raise TypeError(\"Unsupported operand type for *.\")\n",
        "\n",
        "  def __truediv__(self, other):\n",
        "    if isinstance(other, (int, float)):\n",
        "      result = [a / other for a in self.data]\n",
        "      return Array(result)\n",
        "    else:\n",
        "      raise TypeError(\"Unsupported operand type for /.\")"
      ],
      "metadata": {
        "id": "FDHkKatZTia3"
      },
      "execution_count": 13,
      "outputs": []
    },
    {
      "cell_type": "code",
      "source": [
        "object1 = Array([2, 4, 6])\n",
        "object2 = Array([3, 5, 7])"
      ],
      "metadata": {
        "id": "nlHgq4ZpTN5h"
      },
      "execution_count": 14,
      "outputs": []
    },
    {
      "cell_type": "markdown",
      "source": [
        "**Addition**"
      ],
      "metadata": {
        "id": "x1_NGD9MU36W"
      }
    },
    {
      "cell_type": "code",
      "source": [
        "result = object1 + object2\n",
        "print(result)"
      ],
      "metadata": {
        "colab": {
          "base_uri": "https://localhost:8080/"
        },
        "id": "XGICnSZZUz2S",
        "outputId": "29984022-c282-40d0-9cba-b70bf38610e7"
      },
      "execution_count": 15,
      "outputs": [
        {
          "output_type": "stream",
          "name": "stdout",
          "text": [
            "Array([5, 9, 13])\n"
          ]
        }
      ]
    },
    {
      "cell_type": "markdown",
      "source": [
        "**Subtraction**"
      ],
      "metadata": {
        "id": "WX0_wCW8VLEr"
      }
    },
    {
      "cell_type": "code",
      "source": [
        "result = object1 - object2\n",
        "print(result)"
      ],
      "metadata": {
        "colab": {
          "base_uri": "https://localhost:8080/"
        },
        "id": "5ybMGlgDVFX6",
        "outputId": "063cfbc3-5bc0-44f1-a29d-189d770b672a"
      },
      "execution_count": 16,
      "outputs": [
        {
          "output_type": "stream",
          "name": "stdout",
          "text": [
            "Array([-1, -1, -1])\n"
          ]
        }
      ]
    },
    {
      "cell_type": "markdown",
      "source": [
        "**Multiplication**"
      ],
      "metadata": {
        "id": "MGD30Q0YVduo"
      }
    },
    {
      "cell_type": "code",
      "source": [
        "result = object1 * 2\n",
        "print(result)"
      ],
      "metadata": {
        "colab": {
          "base_uri": "https://localhost:8080/"
        },
        "id": "u4WW8iNlVdVN",
        "outputId": "34db66ef-32cd-490c-88fe-266e0feaf231"
      },
      "execution_count": 17,
      "outputs": [
        {
          "output_type": "stream",
          "name": "stdout",
          "text": [
            "Array([4, 8, 12])\n"
          ]
        }
      ]
    },
    {
      "cell_type": "markdown",
      "source": [
        "**Division**"
      ],
      "metadata": {
        "id": "3vQB8ueIVrcz"
      }
    },
    {
      "cell_type": "code",
      "source": [
        "result = object1 / 2\n",
        "print(result)"
      ],
      "metadata": {
        "colab": {
          "base_uri": "https://localhost:8080/"
        },
        "id": "mYAdHsOIVkeR",
        "outputId": "c0e16156-4b56-450c-8bdf-9aa630fbd879"
      },
      "execution_count": 18,
      "outputs": [
        {
          "output_type": "stream",
          "name": "stdout",
          "text": [
            "Array([1.0, 2.0, 3.0])\n"
          ]
        }
      ]
    },
    {
      "cell_type": "markdown",
      "source": [
        "## 2) Inheritance"
      ],
      "metadata": {
        "id": "lZf9XYXJMRV7"
      }
    },
    {
      "cell_type": "code",
      "source": [
        "class ModifiedArray(Array):\n",
        "  def __init__(self, data):\n",
        "    super().__init__(data)\n",
        "\n",
        "  def __pow__(self, power):\n",
        "    if isinstance(power, (int, float)):\n",
        "      result = [a ** power for a in self.data]\n",
        "      return Array(result)\n",
        "    else:\n",
        "      raise TypeError(\"Unsupported operand type for **.\")\n",
        "\n",
        "  # Method overriding for __truediv__ using raise_power\n",
        "  def __truediv__(self, other):\n",
        "    if isinstance(other, (int, float)):\n",
        "      result = [a * other.__pow__(-1) for a in self.data]\n",
        "      return Array(result)\n",
        "    else:\n",
        "      raise TypeError(\"Unsupported operand type for /.\")\n",
        "\n",
        "  def dot_product(self, other):\n",
        "    if isinstance(other, Array):\n",
        "      if len(self.data) == len(other.data):\n",
        "        result = sum(a * b for a, b in zip(self.data, other.data))\n",
        "        return result\n",
        "      else:\n",
        "        raise ValueError(\"Arrays must have the same length.\")\n",
        "    else:\n",
        "      raise TypeError(\"Unsupported operand type for dot product.\")\n"
      ],
      "metadata": {
        "id": "BTIYZT352SHg"
      },
      "execution_count": 64,
      "outputs": []
    },
    {
      "cell_type": "code",
      "source": [
        "object1 = ModifiedArray([2, 4, 6])\n",
        "object2 = ModifiedArray([3, 5, 7])"
      ],
      "metadata": {
        "id": "UUrdRIUcV5KV"
      },
      "execution_count": 65,
      "outputs": []
    },
    {
      "cell_type": "code",
      "source": [
        "object1"
      ],
      "metadata": {
        "id": "pUKvVmz3e0X_",
        "outputId": "38a6f263-cc34-4e33-83ca-d24f4118a4df",
        "colab": {
          "base_uri": "https://localhost:8080/"
        }
      },
      "execution_count": 66,
      "outputs": [
        {
          "output_type": "execute_result",
          "data": {
            "text/plain": [
              "Array([2, 4, 6])"
            ]
          },
          "metadata": {},
          "execution_count": 66
        }
      ]
    },
    {
      "cell_type": "code",
      "source": [
        "result = object1.__pow__(2)\n",
        "result"
      ],
      "metadata": {
        "id": "b3qci5ifW1Eg",
        "outputId": "b831bb09-595b-4179-cdb1-78bef28295de",
        "colab": {
          "base_uri": "https://localhost:8080/"
        }
      },
      "execution_count": 67,
      "outputs": [
        {
          "output_type": "execute_result",
          "data": {
            "text/plain": [
              "Array([4, 16, 36])"
            ]
          },
          "metadata": {},
          "execution_count": 67
        }
      ]
    },
    {
      "cell_type": "code",
      "source": [
        "result.__truediv__(2)"
      ],
      "metadata": {
        "id": "prFkiKkkYvzq",
        "outputId": "86221561-e3c1-4262-81fd-69bffcb36f84",
        "colab": {
          "base_uri": "https://localhost:8080/"
        }
      },
      "execution_count": 68,
      "outputs": [
        {
          "output_type": "execute_result",
          "data": {
            "text/plain": [
              "Array([2.0, 8.0, 18.0])"
            ]
          },
          "metadata": {},
          "execution_count": 68
        }
      ]
    },
    {
      "cell_type": "code",
      "source": [
        "object1.dot_product(object2)"
      ],
      "metadata": {
        "id": "I29Df71sWXMo",
        "outputId": "ebaab16e-15c9-4129-bcd3-616a0b28d14a",
        "colab": {
          "base_uri": "https://localhost:8080/"
        }
      },
      "execution_count": 69,
      "outputs": [
        {
          "output_type": "execute_result",
          "data": {
            "text/plain": [
              "68"
            ]
          },
          "metadata": {},
          "execution_count": 69
        }
      ]
    },
    {
      "cell_type": "markdown",
      "source": [
        "# 3) Encapsulation"
      ],
      "metadata": {
        "id": "5pFxO19gbX1S"
      }
    },
    {
      "cell_type": "code",
      "source": [
        "class ModifiedArray(Array):\n",
        "    def __init__(self, data):\n",
        "      super().__init__(data)\n",
        "      self._length = len(data)\n",
        "\n",
        "    def get_length(self):\n",
        "        return self._length"
      ],
      "metadata": {
        "id": "mDyjoYHsbeXI"
      },
      "execution_count": 84,
      "outputs": []
    },
    {
      "cell_type": "code",
      "source": [
        "object1 = ModifiedArray([4, 16, 36])\n",
        "object2 = ModifiedArray([2])"
      ],
      "metadata": {
        "id": "2ROQAAISfbh5"
      },
      "execution_count": 85,
      "outputs": []
    },
    {
      "cell_type": "markdown",
      "source": [
        "## Combining everything"
      ],
      "metadata": {
        "id": "A8krlGeAWoyK"
      }
    },
    {
      "cell_type": "markdown",
      "source": [
        "### Introduction"
      ],
      "metadata": {
        "id": "gJAWoOBhp7f4"
      }
    },
    {
      "cell_type": "markdown",
      "source": [
        "LibraryItem is a class that stores \"title\", \"location\" and \"borrow status\". This piece of code is common to every other item in the library hence can be reused.\n",
        "\n"
      ],
      "metadata": {
        "id": "JlrZUa9Jtssv"
      }
    },
    {
      "cell_type": "code",
      "source": [
        "from abc import ABC, abstractmethod\n",
        "\n",
        "class LibraryItem():\n",
        "  def __init__(self, title, location):\n",
        "    self._title = title\n",
        "    self._location = location\n",
        "    self._is_borrowed = False\n",
        "\n",
        "  @abstractmethod\n",
        "  def get_details(self):\n",
        "    pass\n",
        "\n",
        "  def borrow(self):\n",
        "    if not self._is_borrowed:\n",
        "      self._is_borrowed = True\n",
        "      print(f\"{self._title} has been borrowed.\")\n",
        "    else:\n",
        "      print(f\"{self._title} is already borrowed.\")\n",
        "\n",
        "\n",
        "  def return_item(self):\n",
        "    if self._is_borrowed:\n",
        "      self._is_borrowed = False\n",
        "      print(f\"{self._title} has been returned.\")\n",
        "    else:\n",
        "      print(f\"{self._title} is not borrowed.\")"
      ],
      "metadata": {
        "id": "C4mR5RtEM2gd"
      },
      "execution_count": 7,
      "outputs": []
    },
    {
      "cell_type": "code",
      "source": [
        "class Book(LibraryItem):\n",
        "  def __init__(self, title, location, author, pages):\n",
        "    super().__init__(title, location)\n",
        "    self._author = author\n",
        "    self._pages = pages\n",
        "\n",
        "  def get_details(self):\n",
        "    return f\"Book: {self._title} by {self._author}, {self._pages} pages.\"\n",
        "\n",
        "class DVD(LibraryItem):\n",
        "  def __init__(self, title, location, director, runtime):\n",
        "    super().__init__(title, location)\n",
        "    self._director = director\n",
        "    self._runtime = runtime\n",
        "\n",
        "  def get_details(self):\n",
        "    return f\"DVD: {self._title}, directed by {self._director}, {self._runtime} minutes.\"\n",
        "\n",
        "class Newspaper(LibraryItem):\n",
        "  def __init__(self, title, location, publisher, pages):\n",
        "    super().__init__(title, location)\n",
        "    self._publisher = publisher\n",
        "    self._pages = pages\n",
        "\n",
        "  def get_details(self):\n",
        "    return f\"Newspaper: {self._title}, published by {self._publisher}, {self._pages} pages.\""
      ],
      "metadata": {
        "id": "P7C7kbrXsyKZ"
      },
      "execution_count": 8,
      "outputs": []
    },
    {
      "cell_type": "code",
      "source": [
        "class Library:\n",
        "    def __init__(self):\n",
        "        self._items = []\n",
        "\n",
        "    def add_item(self, item):\n",
        "        self._items.append(item)\n",
        "\n",
        "    def show_catalog(self):\n",
        "        for item in self._items:\n",
        "            print(item.get_details())"
      ],
      "metadata": {
        "id": "3GdJSBpvszUD"
      },
      "execution_count": 9,
      "outputs": []
    },
    {
      "cell_type": "code",
      "source": [
        "book1 = Book(\"Happy Potter\", \"Fiction\", \"J.K. Rowling\", 625)\n",
        "dvd1 = DVD(\"Inception\", \"Science Fiction\", \"Christopher Nolan\", 148)\n",
        "newspaper1 = Newspaper(\"N.Y. Times\", \"News\", \"NY Times\", 12)"
      ],
      "metadata": {
        "id": "lQULo4y5s22_"
      },
      "execution_count": 10,
      "outputs": []
    },
    {
      "cell_type": "code",
      "source": [
        "library = Library()\n",
        "library.add_item(book1)\n",
        "library.add_item(dvd1)\n",
        "library.add_item(newspaper1)\n",
        "\n",
        "library.show_catalog()"
      ],
      "metadata": {
        "id": "a7axuHpLyI-J",
        "outputId": "6f158f49-bd21-4679-a148-aa465bcd64c7",
        "colab": {
          "base_uri": "https://localhost:8080/"
        }
      },
      "execution_count": 12,
      "outputs": [
        {
          "output_type": "stream",
          "name": "stdout",
          "text": [
            "Book: Happy Potter by J.K. Rowling, 625 pages.\n",
            "DVD: Inception, directed by Christopher Nolan, 148 minutes.\n",
            "Newspaper: N.Y. Times, published by NY Times, 12 pages.\n"
          ]
        }
      ]
    },
    {
      "cell_type": "code",
      "source": [
        "book1.borrow()\n",
        "dvd1.borrow()"
      ],
      "metadata": {
        "id": "3Rp6DTZzySla",
        "outputId": "f1a3f7f2-18e0-4a4a-8604-274f1089bf39",
        "colab": {
          "base_uri": "https://localhost:8080/"
        }
      },
      "execution_count": 16,
      "outputs": [
        {
          "output_type": "stream",
          "name": "stdout",
          "text": [
            "Happy Potter is already borrowed.\n",
            "Inception is already borrowed.\n"
          ]
        }
      ]
    },
    {
      "cell_type": "code",
      "source": [
        "book1.return_item()\n",
        "dvd1.return_item()"
      ],
      "metadata": {
        "id": "t7G7abR7yXqW",
        "outputId": "f72699f2-c3da-4042-99ca-7f9ff47caaf0",
        "colab": {
          "base_uri": "https://localhost:8080/"
        }
      },
      "execution_count": 17,
      "outputs": [
        {
          "output_type": "stream",
          "name": "stdout",
          "text": [
            "Happy Potter has been returned.\n",
            "Inception has been returned.\n"
          ]
        }
      ]
    }
  ]
}