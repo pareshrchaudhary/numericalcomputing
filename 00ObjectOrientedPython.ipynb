{
  "nbformat": 4,
  "nbformat_minor": 0,
  "metadata": {
    "colab": {
      "provenance": [],
      "authorship_tag": "ABX9TyNxd9wAUuAA2L/fhkWaNw5R",
      "include_colab_link": true
    },
    "kernelspec": {
      "name": "python3",
      "display_name": "Python 3"
    },
    "language_info": {
      "name": "python"
    }
  },
  "cells": [
    {
      "cell_type": "markdown",
      "metadata": {
        "id": "view-in-github",
        "colab_type": "text"
      },
      "source": [
        "<a href=\"https://colab.research.google.com/github/pareshrchaudhary/numericalmethods/blob/main/00ObjectOrientedPython.ipynb\" target=\"_parent\"><img src=\"https://colab.research.google.com/assets/colab-badge.svg\" alt=\"Open In Colab\"/></a>"
      ]
    },
    {
      "cell_type": "markdown",
      "source": [
        "# Object Oriented Programming"
      ],
      "metadata": {
        "id": "Q_qOHPpzIKdt"
      }
    },
    {
      "cell_type": "markdown",
      "source": [
        "The main use of object oriented programming is to increase resuability and modularity of the code. It contains **classes** and **objects**.\n",
        "\n",
        "The functions inside a class are called methods and data associated with objects are called attributes.\n",
        "\n",
        "Three main pillars of OOP are-\n",
        "\n",
        "1.   Inheritance\n",
        "> Create new classes from existing class without modifying it\n",
        "\n",
        "2.   Encapsulation\n",
        "> Hiding private details of a class from other objects\n",
        "\n",
        "3.   Polymorphism\n",
        "> Using common operation in different ways for different data input\n",
        "\n",
        "\n",
        "\n",
        "\n"
      ],
      "metadata": {
        "id": "NbAdGthiE2Zx"
      }
    },
    {
      "cell_type": "markdown",
      "source": [
        "## 1) Object and Method\n",
        "First a simple introduction to Object and Method and then simplest Numpy like class that can add, subtract, multiply and divide."
      ],
      "metadata": {
        "id": "tET143s5CwNO"
      }
    },
    {
      "cell_type": "markdown",
      "source": [
        "### Introduction"
      ],
      "metadata": {
        "id": "LOG15X0-UHlv"
      }
    },
    {
      "cell_type": "code",
      "execution_count": 1,
      "metadata": {
        "id": "rWSY3jachWwN"
      },
      "outputs": [],
      "source": [
        "class People():\n",
        "    def __init__(self, name, age):\n",
        "        self.name = name\n",
        "        self.age = age\n",
        "\n",
        "    def future_age(self, number):\n",
        "        print(self.name + \"'s age after\", number, \"years is\", self.age + number)"
      ]
    },
    {
      "cell_type": "markdown",
      "source": [
        "**Creating an instance**"
      ],
      "metadata": {
        "id": "5RvMmWepITHj"
      }
    },
    {
      "cell_type": "code",
      "source": [
        "person1 = People(name = \"roger\", age = 25)"
      ],
      "metadata": {
        "id": "p-z2IuomDOg-"
      },
      "execution_count": 2,
      "outputs": []
    },
    {
      "cell_type": "code",
      "source": [
        "type(person1)"
      ],
      "metadata": {
        "colab": {
          "base_uri": "https://localhost:8080/"
        },
        "id": "qfVKX3NYJuek",
        "outputId": "46dddef4-ff0e-41ab-be3e-77d2700bebfb"
      },
      "execution_count": 3,
      "outputs": [
        {
          "output_type": "execute_result",
          "data": {
            "text/plain": [
              "__main__.People"
            ]
          },
          "metadata": {},
          "execution_count": 3
        }
      ]
    },
    {
      "cell_type": "code",
      "source": [
        "isinstance(person1, People) # Checking if object is of People class"
      ],
      "metadata": {
        "colab": {
          "base_uri": "https://localhost:8080/"
        },
        "id": "jEMuNWCKXpM9",
        "outputId": "46814230-7732-4539-868b-0c97f5611bf8"
      },
      "execution_count": 4,
      "outputs": [
        {
          "output_type": "execute_result",
          "data": {
            "text/plain": [
              "True"
            ]
          },
          "metadata": {},
          "execution_count": 4
        }
      ]
    },
    {
      "cell_type": "code",
      "source": [
        "id(person1) # Unique identifier of the object"
      ],
      "metadata": {
        "colab": {
          "base_uri": "https://localhost:8080/"
        },
        "id": "inB4ynr3Ivhg",
        "outputId": "c0f3afc1-9cec-47b5-9c87-9b87515410ce"
      },
      "execution_count": 5,
      "outputs": [
        {
          "output_type": "execute_result",
          "data": {
            "text/plain": [
              "132932522204784"
            ]
          },
          "metadata": {},
          "execution_count": 5
        }
      ]
    },
    {
      "cell_type": "markdown",
      "source": [
        "**Checking attributes**"
      ],
      "metadata": {
        "id": "-wsjIPQtJ_lu"
      }
    },
    {
      "cell_type": "code",
      "source": [
        "person1.name"
      ],
      "metadata": {
        "colab": {
          "base_uri": "https://localhost:8080/",
          "height": 0
        },
        "id": "WE1eKPGODlgE",
        "outputId": "db0b3e5a-7c46-44a4-9cd3-67681e525098"
      },
      "execution_count": 6,
      "outputs": [
        {
          "output_type": "execute_result",
          "data": {
            "text/plain": [
              "'roger'"
            ],
            "application/vnd.google.colaboratory.intrinsic+json": {
              "type": "string"
            }
          },
          "metadata": {},
          "execution_count": 6
        }
      ]
    },
    {
      "cell_type": "code",
      "source": [
        "person1.age"
      ],
      "metadata": {
        "colab": {
          "base_uri": "https://localhost:8080/"
        },
        "id": "jrLAAbh2Dn34",
        "outputId": "86b21127-e25d-44f8-d87f-b12cd0b3bedd"
      },
      "execution_count": 7,
      "outputs": [
        {
          "output_type": "execute_result",
          "data": {
            "text/plain": [
              "25"
            ]
          },
          "metadata": {},
          "execution_count": 7
        }
      ]
    },
    {
      "cell_type": "markdown",
      "source": [
        "**Checking methods inside the class**"
      ],
      "metadata": {
        "id": "HlV3RXtHJyMf"
      }
    },
    {
      "cell_type": "code",
      "source": [
        "dir(person1)"
      ],
      "metadata": {
        "colab": {
          "base_uri": "https://localhost:8080/"
        },
        "id": "If5cqtRBIxkG",
        "outputId": "e68a71d5-9730-4fec-de3a-b1f41d23ded5"
      },
      "execution_count": 8,
      "outputs": [
        {
          "output_type": "execute_result",
          "data": {
            "text/plain": [
              "['__class__',\n",
              " '__delattr__',\n",
              " '__dict__',\n",
              " '__dir__',\n",
              " '__doc__',\n",
              " '__eq__',\n",
              " '__format__',\n",
              " '__ge__',\n",
              " '__getattribute__',\n",
              " '__gt__',\n",
              " '__hash__',\n",
              " '__init__',\n",
              " '__init_subclass__',\n",
              " '__le__',\n",
              " '__lt__',\n",
              " '__module__',\n",
              " '__ne__',\n",
              " '__new__',\n",
              " '__reduce__',\n",
              " '__reduce_ex__',\n",
              " '__repr__',\n",
              " '__setattr__',\n",
              " '__sizeof__',\n",
              " '__str__',\n",
              " '__subclasshook__',\n",
              " '__weakref__',\n",
              " 'age',\n",
              " 'future_age',\n",
              " 'name']"
            ]
          },
          "metadata": {},
          "execution_count": 8
        }
      ]
    },
    {
      "cell_type": "code",
      "source": [
        "person1.__dir__ #hidden method"
      ],
      "metadata": {
        "colab": {
          "base_uri": "https://localhost:8080/"
        },
        "id": "h_aUjYV1KU8U",
        "outputId": "5686a0d8-3270-4cdb-88b9-de457ccad49e"
      },
      "execution_count": 9,
      "outputs": [
        {
          "output_type": "execute_result",
          "data": {
            "text/plain": [
              "<function People.__dir__()>"
            ]
          },
          "metadata": {},
          "execution_count": 9
        }
      ]
    },
    {
      "cell_type": "code",
      "source": [
        "person1.__class__ #hidden method"
      ],
      "metadata": {
        "colab": {
          "base_uri": "https://localhost:8080/"
        },
        "id": "9dZKVD_zKM-o",
        "outputId": "acb368bc-e9cd-4227-97b0-a12dd2838f0b"
      },
      "execution_count": 10,
      "outputs": [
        {
          "output_type": "execute_result",
          "data": {
            "text/plain": [
              "__main__.People"
            ]
          },
          "metadata": {},
          "execution_count": 10
        }
      ]
    },
    {
      "cell_type": "code",
      "source": [
        "person1.future_age"
      ],
      "metadata": {
        "colab": {
          "base_uri": "https://localhost:8080/"
        },
        "id": "g8FA-nbJKEiI",
        "outputId": "44b433be-97f5-4ebf-f3a6-73b99766da2e"
      },
      "execution_count": 11,
      "outputs": [
        {
          "output_type": "execute_result",
          "data": {
            "text/plain": [
              "<bound method People.future_age of <__main__.People object at 0x78e6c3c3de70>>"
            ]
          },
          "metadata": {},
          "execution_count": 11
        }
      ]
    },
    {
      "cell_type": "code",
      "source": [
        "person1.future_age(4)"
      ],
      "metadata": {
        "colab": {
          "base_uri": "https://localhost:8080/"
        },
        "id": "_EVr2deUDpnJ",
        "outputId": "12a36477-c2e7-4358-a140-32a5fbc3e2d5"
      },
      "execution_count": 12,
      "outputs": [
        {
          "output_type": "stream",
          "name": "stdout",
          "text": [
            "roger's age after 4 years is 29\n"
          ]
        }
      ]
    },
    {
      "cell_type": "markdown",
      "source": [
        "### Simplest Numpy"
      ],
      "metadata": {
        "id": "mqCcUUxiUMNZ"
      }
    },
    {
      "cell_type": "code",
      "source": [
        "class Array:\n",
        "  def __init__(self, data):\n",
        "    self.data = data\n",
        "\n",
        "  def __repr__(self):\n",
        "    return f\"Array({self.data})\"\n",
        "\n",
        "  def __add__(self, other):\n",
        "    if isinstance(other, Array):\n",
        "      if len(self.data) == len(other.data):\n",
        "        result = [a + b for a, b in zip(self.data, other.data)]\n",
        "        return Array(result)\n",
        "      else:\n",
        "        raise ValueError(\"Arrays must have the same length.\")\n",
        "    else:\n",
        "      raise TypeError(\"Unsupported operand type for +.\")\n",
        "\n",
        "  def __sub__(self, other):\n",
        "    if isinstance(other, Array):\n",
        "      if len(self.data) == len(other.data):\n",
        "        result = [a - b for a, b in zip(self.data, other.data)]\n",
        "        return Array(result)\n",
        "      else:\n",
        "        raise ValueError(\"Arrays must have the same length.\")\n",
        "    else:\n",
        "      raise TypeError(\"Unsupported operand type for -.\")\n",
        "\n",
        "  def __mul__(self, other):\n",
        "    if isinstance(other, (int, float)):\n",
        "      result = [a * other for a in self.data]\n",
        "      return Array(result)\n",
        "    else:\n",
        "      raise TypeError(\"Unsupported operand type for *.\")\n",
        "\n",
        "  def __truediv__(self, other):\n",
        "    if isinstance(other, (int, float)):\n",
        "      result = [a / other for a in self.data]\n",
        "      return Array(result)\n",
        "    else:\n",
        "      raise TypeError(\"Unsupported operand type for /.\")"
      ],
      "metadata": {
        "id": "FDHkKatZTia3"
      },
      "execution_count": 13,
      "outputs": []
    },
    {
      "cell_type": "code",
      "source": [
        "object1 = Array([2, 4, 6])\n",
        "object2 = Array([3, 5, 7])"
      ],
      "metadata": {
        "id": "nlHgq4ZpTN5h"
      },
      "execution_count": 14,
      "outputs": []
    },
    {
      "cell_type": "markdown",
      "source": [
        "**Addition**"
      ],
      "metadata": {
        "id": "x1_NGD9MU36W"
      }
    },
    {
      "cell_type": "code",
      "source": [
        "result = object1 + object2\n",
        "print(result)"
      ],
      "metadata": {
        "colab": {
          "base_uri": "https://localhost:8080/"
        },
        "id": "XGICnSZZUz2S",
        "outputId": "6319d042-401c-4ea8-be77-58610484f187"
      },
      "execution_count": 15,
      "outputs": [
        {
          "output_type": "stream",
          "name": "stdout",
          "text": [
            "Array([5, 9, 13])\n"
          ]
        }
      ]
    },
    {
      "cell_type": "markdown",
      "source": [
        "**Subtraction**"
      ],
      "metadata": {
        "id": "WX0_wCW8VLEr"
      }
    },
    {
      "cell_type": "code",
      "source": [
        "result = object1 - object2\n",
        "print(result)"
      ],
      "metadata": {
        "colab": {
          "base_uri": "https://localhost:8080/"
        },
        "id": "5ybMGlgDVFX6",
        "outputId": "6d8cbf3e-5b6f-4993-d335-cc98509f9785"
      },
      "execution_count": 16,
      "outputs": [
        {
          "output_type": "stream",
          "name": "stdout",
          "text": [
            "Array([-1, -1, -1])\n"
          ]
        }
      ]
    },
    {
      "cell_type": "markdown",
      "source": [
        "**Multiplication**"
      ],
      "metadata": {
        "id": "MGD30Q0YVduo"
      }
    },
    {
      "cell_type": "code",
      "source": [
        "result = object1 * 2\n",
        "print(result)"
      ],
      "metadata": {
        "colab": {
          "base_uri": "https://localhost:8080/"
        },
        "id": "u4WW8iNlVdVN",
        "outputId": "274ddc15-f9cd-43c9-d0a4-ae48a6fa4df6"
      },
      "execution_count": 17,
      "outputs": [
        {
          "output_type": "stream",
          "name": "stdout",
          "text": [
            "Array([4, 8, 12])\n"
          ]
        }
      ]
    },
    {
      "cell_type": "markdown",
      "source": [
        "**Division**"
      ],
      "metadata": {
        "id": "3vQB8ueIVrcz"
      }
    },
    {
      "cell_type": "code",
      "source": [
        "result = object1 / 2\n",
        "print(result)"
      ],
      "metadata": {
        "colab": {
          "base_uri": "https://localhost:8080/"
        },
        "id": "mYAdHsOIVkeR",
        "outputId": "7e8dedc1-9403-40b3-8113-2b8cb2c20019"
      },
      "execution_count": 18,
      "outputs": [
        {
          "output_type": "stream",
          "name": "stdout",
          "text": [
            "Array([1.0, 2.0, 3.0])\n"
          ]
        }
      ]
    },
    {
      "cell_type": "markdown",
      "source": [
        "## 2) Inheritance"
      ],
      "metadata": {
        "id": "lZf9XYXJMRV7"
      }
    },
    {
      "cell_type": "markdown",
      "source": [
        "Child class ModifiedArray inherits all the characteristics from the Array class from earlier. In this example method overriding is shown and a new method is added to the child class."
      ],
      "metadata": {
        "id": "37VCW2W592V4"
      }
    },
    {
      "cell_type": "code",
      "source": [
        "class ModifiedArray(Array):\n",
        "  def __init__(self, data):\n",
        "    super().__init__(data)\n",
        "\n",
        "  def __pow__(self, power):\n",
        "    if isinstance(power, (int, float)):\n",
        "      result = [a ** power for a in self.data]\n",
        "      return Array(result)\n",
        "    else:\n",
        "      raise TypeError(\"Unsupported operand type for **.\")\n",
        "\n",
        "  # Method overriding for __truediv__ using raise_power\n",
        "  def __truediv__(self, other):\n",
        "    if isinstance(other, (int, float)):\n",
        "      result = [a * other.__pow__(-1) for a in self.data]\n",
        "      return Array(result)\n",
        "    else:\n",
        "      raise TypeError(\"Unsupported operand type for /.\")\n",
        "\n",
        "  def dot_product(self, other):\n",
        "    if isinstance(other, Array):\n",
        "      if len(self.data) == len(other.data):\n",
        "        result = sum(a * b for a, b in zip(self.data, other.data))\n",
        "        return result\n",
        "      else:\n",
        "        raise ValueError(\"Arrays must have the same length.\")\n",
        "    else:\n",
        "      raise TypeError(\"Unsupported operand type for dot product.\")\n"
      ],
      "metadata": {
        "id": "BTIYZT352SHg"
      },
      "execution_count": 78,
      "outputs": []
    },
    {
      "cell_type": "code",
      "source": [
        "object1 = ModifiedArray([2, 4, 6])\n",
        "object2 = ModifiedArray([3, 5, 7])"
      ],
      "metadata": {
        "id": "UUrdRIUcV5KV"
      },
      "execution_count": 79,
      "outputs": []
    },
    {
      "cell_type": "code",
      "source": [
        "# result = object1.__pow__(2)\n",
        "result = object1**2\n",
        "result"
      ],
      "metadata": {
        "id": "b3qci5ifW1Eg",
        "outputId": "5887e625-6473-4fbc-aa04-531ad4bdc2e6",
        "colab": {
          "base_uri": "https://localhost:8080/"
        }
      },
      "execution_count": 80,
      "outputs": [
        {
          "output_type": "execute_result",
          "data": {
            "text/plain": [
              "Array([4, 16, 36])"
            ]
          },
          "metadata": {},
          "execution_count": 80
        }
      ]
    },
    {
      "cell_type": "code",
      "source": [
        "result/2"
      ],
      "metadata": {
        "id": "prFkiKkkYvzq",
        "outputId": "69db6958-05d6-4b8a-c4c8-f7029c38d242",
        "colab": {
          "base_uri": "https://localhost:8080/"
        }
      },
      "execution_count": 81,
      "outputs": [
        {
          "output_type": "execute_result",
          "data": {
            "text/plain": [
              "Array([2.0, 8.0, 18.0])"
            ]
          },
          "metadata": {},
          "execution_count": 81
        }
      ]
    },
    {
      "cell_type": "code",
      "source": [
        "object1.dot_product(object2)"
      ],
      "metadata": {
        "id": "I29Df71sWXMo",
        "outputId": "bc2c80f6-49cd-4aea-e9f9-611446177b6c",
        "colab": {
          "base_uri": "https://localhost:8080/"
        }
      },
      "execution_count": 82,
      "outputs": [
        {
          "output_type": "execute_result",
          "data": {
            "text/plain": [
              "68"
            ]
          },
          "metadata": {},
          "execution_count": 82
        }
      ]
    },
    {
      "cell_type": "markdown",
      "source": [
        "# 3) Encapsulation"
      ],
      "metadata": {
        "id": "5pFxO19gbX1S"
      }
    },
    {
      "cell_type": "markdown",
      "source": [
        "In this child class the previous Array class is inherited and a new method is added to the class that gives length of the array. Now here the variable that hold the length is hidden."
      ],
      "metadata": {
        "id": "wBEnCK6y_93f"
      }
    },
    {
      "cell_type": "code",
      "source": [
        "class modifiedArray(Array):\n",
        "    def __init__(self, data):\n",
        "      super().__init__(data)\n",
        "      self.__length = len(data)\n",
        "      self.name = self.__name()\n",
        "\n",
        "    def __len__(self):\n",
        "        return self.__length\n",
        "\n",
        "    def __name(self):\n",
        "      return type(self)"
      ],
      "metadata": {
        "id": "mDyjoYHsbeXI"
      },
      "execution_count": 72,
      "outputs": []
    },
    {
      "cell_type": "code",
      "source": [
        "object1 = modifiedArray([4, 16, 36])"
      ],
      "metadata": {
        "id": "2ROQAAISfbh5"
      },
      "execution_count": 73,
      "outputs": []
    },
    {
      "cell_type": "markdown",
      "source": [
        "**Encapsulated variable**"
      ],
      "metadata": {
        "id": "f4BTf3vRFZod"
      }
    },
    {
      "cell_type": "code",
      "source": [
        "object1.__length"
      ],
      "metadata": {
        "id": "KaZYYKCyAifT",
        "outputId": "a37426a8-96c2-43cc-88d9-38db0a0cc542",
        "colab": {
          "base_uri": "https://localhost:8080/",
          "height": 165
        }
      },
      "execution_count": 74,
      "outputs": [
        {
          "output_type": "error",
          "ename": "AttributeError",
          "evalue": "ignored",
          "traceback": [
            "\u001b[0;31m---------------------------------------------------------------------------\u001b[0m",
            "\u001b[0;31mAttributeError\u001b[0m                            Traceback (most recent call last)",
            "\u001b[0;32m<ipython-input-74-a4cd5427c6b9>\u001b[0m in \u001b[0;36m<cell line: 1>\u001b[0;34m()\u001b[0m\n\u001b[0;32m----> 1\u001b[0;31m \u001b[0mobject1\u001b[0m\u001b[0;34m.\u001b[0m\u001b[0m__length\u001b[0m\u001b[0;34m\u001b[0m\u001b[0;34m\u001b[0m\u001b[0m\n\u001b[0m",
            "\u001b[0;31mAttributeError\u001b[0m: 'modifiedArray' object has no attribute '__length'"
          ]
        }
      ]
    },
    {
      "cell_type": "code",
      "source": [
        "len(object1)"
      ],
      "metadata": {
        "id": "SHyozoxjASjT",
        "outputId": "7c4c1464-54cc-4a39-f14d-4ad150c53be0",
        "colab": {
          "base_uri": "https://localhost:8080/"
        }
      },
      "execution_count": 75,
      "outputs": [
        {
          "output_type": "execute_result",
          "data": {
            "text/plain": [
              "3"
            ]
          },
          "metadata": {},
          "execution_count": 75
        }
      ]
    },
    {
      "cell_type": "markdown",
      "source": [
        "**Encapsulated method**"
      ],
      "metadata": {
        "id": "DsRCdROOFdSK"
      }
    },
    {
      "cell_type": "code",
      "source": [
        "object1.__name"
      ],
      "metadata": {
        "id": "boO-3nkEBZCD",
        "outputId": "8c6dca2b-c621-4b5d-8b2d-81c2b216585e",
        "colab": {
          "base_uri": "https://localhost:8080/",
          "height": 165
        }
      },
      "execution_count": 76,
      "outputs": [
        {
          "output_type": "error",
          "ename": "AttributeError",
          "evalue": "ignored",
          "traceback": [
            "\u001b[0;31m---------------------------------------------------------------------------\u001b[0m",
            "\u001b[0;31mAttributeError\u001b[0m                            Traceback (most recent call last)",
            "\u001b[0;32m<ipython-input-76-d7814086b3b7>\u001b[0m in \u001b[0;36m<cell line: 1>\u001b[0;34m()\u001b[0m\n\u001b[0;32m----> 1\u001b[0;31m \u001b[0mobject1\u001b[0m\u001b[0;34m.\u001b[0m\u001b[0m__name\u001b[0m\u001b[0;34m\u001b[0m\u001b[0;34m\u001b[0m\u001b[0m\n\u001b[0m",
            "\u001b[0;31mAttributeError\u001b[0m: 'modifiedArray' object has no attribute '__name'"
          ]
        }
      ]
    },
    {
      "cell_type": "code",
      "source": [
        "object1.name"
      ],
      "metadata": {
        "id": "Yqaz_M4YDe4X",
        "outputId": "9519908c-3181-44a5-c423-7cfecd18d52d",
        "colab": {
          "base_uri": "https://localhost:8080/"
        }
      },
      "execution_count": 77,
      "outputs": [
        {
          "output_type": "execute_result",
          "data": {
            "text/plain": [
              "__main__.modifiedArray"
            ]
          },
          "metadata": {},
          "execution_count": 77
        }
      ]
    },
    {
      "cell_type": "markdown",
      "source": [
        "# 4) Polymorphism"
      ],
      "metadata": {
        "id": "TrCOAgczFtJt"
      }
    },
    {
      "cell_type": "markdown",
      "source": [
        "Polymorphism is already implemented in the previous examples and is explicitly tested below. Note both the method are named similarly but are different in operation."
      ],
      "metadata": {
        "id": "LJSb2AU5HLkk"
      }
    },
    {
      "cell_type": "code",
      "source": [
        "object1 = Array([10, 22])\n",
        "object2 = ModifiedArray([16, 32])"
      ],
      "metadata": {
        "id": "HJ2y5ibhF1X2"
      },
      "execution_count": 83,
      "outputs": []
    },
    {
      "cell_type": "markdown",
      "source": [
        "object1 is using normal dividion method present in Array class"
      ],
      "metadata": {
        "id": "0be2bZReIG-k"
      }
    },
    {
      "cell_type": "code",
      "source": [
        "object1/2"
      ],
      "metadata": {
        "id": "vIDynN5VHzwp",
        "outputId": "6d87bf87-e355-4db3-a0f7-146f44645df3",
        "colab": {
          "base_uri": "https://localhost:8080/"
        }
      },
      "execution_count": 84,
      "outputs": [
        {
          "output_type": "execute_result",
          "data": {
            "text/plain": [
              "Array([5.0, 11.0])"
            ]
          },
          "metadata": {},
          "execution_count": 84
        }
      ]
    },
    {
      "cell_type": "markdown",
      "source": [
        "object2 is using raise to -1 method to divide"
      ],
      "metadata": {
        "id": "6ir5jxm9H9K0"
      }
    },
    {
      "cell_type": "code",
      "source": [
        "object2/2"
      ],
      "metadata": {
        "id": "45NxPVglH3fC",
        "outputId": "fd39d4fa-bec5-452a-eb27-1e57fe0ceaa6",
        "colab": {
          "base_uri": "https://localhost:8080/"
        }
      },
      "execution_count": 85,
      "outputs": [
        {
          "output_type": "execute_result",
          "data": {
            "text/plain": [
              "Array([8.0, 16.0])"
            ]
          },
          "metadata": {},
          "execution_count": 85
        }
      ]
    },
    {
      "cell_type": "markdown",
      "source": [
        "# Combining everything"
      ],
      "metadata": {
        "id": "A8krlGeAWoyK"
      }
    },
    {
      "cell_type": "markdown",
      "source": [
        "### Introduction"
      ],
      "metadata": {
        "id": "gJAWoOBhp7f4"
      }
    },
    {
      "cell_type": "markdown",
      "source": [
        "LibraryItem is a class that stores \"title\", \"location\" and \"borrow status\". This piece of code is common to every other item in the library hence can be reused.\n",
        "\n"
      ],
      "metadata": {
        "id": "JlrZUa9Jtssv"
      }
    },
    {
      "cell_type": "code",
      "source": [
        "from abc import ABC, abstractmethod\n",
        "\n",
        "class LibraryItem():\n",
        "  def __init__(self, title, location):\n",
        "    self._title = title\n",
        "    self._location = location\n",
        "    self._is_borrowed = False\n",
        "\n",
        "  @abstractmethod\n",
        "  def get_details(self):\n",
        "    pass\n",
        "\n",
        "  def borrow(self):\n",
        "    if not self._is_borrowed:\n",
        "      self._is_borrowed = True\n",
        "      print(f\"{self._title} has been borrowed.\")\n",
        "    else:\n",
        "      print(f\"{self._title} is already borrowed.\")\n",
        "\n",
        "\n",
        "  def return_item(self):\n",
        "    if self._is_borrowed:\n",
        "      self._is_borrowed = False\n",
        "      print(f\"{self._title} has been returned.\")\n",
        "    else:\n",
        "      print(f\"{self._title} is not borrowed.\")"
      ],
      "metadata": {
        "id": "C4mR5RtEM2gd"
      },
      "execution_count": null,
      "outputs": []
    },
    {
      "cell_type": "code",
      "source": [
        "class Book(LibraryItem):\n",
        "  def __init__(self, title, location, author, pages):\n",
        "    super().__init__(title, location)\n",
        "    self._author = author\n",
        "    self._pages = pages\n",
        "\n",
        "  def get_details(self):\n",
        "    return f\"Book: {self._title} by {self._author}, {self._pages} pages.\"\n",
        "\n",
        "class DVD(LibraryItem):\n",
        "  def __init__(self, title, location, director, runtime):\n",
        "    super().__init__(title, location)\n",
        "    self._director = director\n",
        "    self._runtime = runtime\n",
        "\n",
        "  def get_details(self):\n",
        "    return f\"DVD: {self._title}, directed by {self._director}, {self._runtime} minutes.\"\n",
        "\n",
        "class Newspaper(LibraryItem):\n",
        "  def __init__(self, title, location, publisher, pages):\n",
        "    super().__init__(title, location)\n",
        "    self._publisher = publisher\n",
        "    self._pages = pages\n",
        "\n",
        "  def get_details(self):\n",
        "    return f\"Newspaper: {self._title}, published by {self._publisher}, {self._pages} pages.\""
      ],
      "metadata": {
        "id": "P7C7kbrXsyKZ"
      },
      "execution_count": null,
      "outputs": []
    },
    {
      "cell_type": "code",
      "source": [
        "class Library:\n",
        "    def __init__(self):\n",
        "        self._items = []\n",
        "\n",
        "    def add_item(self, item):\n",
        "        self._items.append(item)\n",
        "\n",
        "    def show_catalog(self):\n",
        "        for item in self._items:\n",
        "            print(item.get_details())"
      ],
      "metadata": {
        "id": "3GdJSBpvszUD"
      },
      "execution_count": null,
      "outputs": []
    },
    {
      "cell_type": "code",
      "source": [
        "book1 = Book(\"Happy Potter\", \"Fiction\", \"J.K. Rowling\", 625)\n",
        "dvd1 = DVD(\"Inception\", \"Science Fiction\", \"Christopher Nolan\", 148)\n",
        "newspaper1 = Newspaper(\"N.Y. Times\", \"News\", \"NY Times\", 12)"
      ],
      "metadata": {
        "id": "lQULo4y5s22_"
      },
      "execution_count": null,
      "outputs": []
    },
    {
      "cell_type": "code",
      "source": [
        "library = Library()\n",
        "library.add_item(book1)\n",
        "library.add_item(dvd1)\n",
        "library.add_item(newspaper1)\n",
        "\n",
        "library.show_catalog()"
      ],
      "metadata": {
        "id": "a7axuHpLyI-J",
        "outputId": "6f158f49-bd21-4679-a148-aa465bcd64c7",
        "colab": {
          "base_uri": "https://localhost:8080/"
        }
      },
      "execution_count": null,
      "outputs": [
        {
          "output_type": "stream",
          "name": "stdout",
          "text": [
            "Book: Happy Potter by J.K. Rowling, 625 pages.\n",
            "DVD: Inception, directed by Christopher Nolan, 148 minutes.\n",
            "Newspaper: N.Y. Times, published by NY Times, 12 pages.\n"
          ]
        }
      ]
    },
    {
      "cell_type": "code",
      "source": [
        "book1.borrow()\n",
        "dvd1.borrow()"
      ],
      "metadata": {
        "id": "3Rp6DTZzySla",
        "outputId": "f1a3f7f2-18e0-4a4a-8604-274f1089bf39",
        "colab": {
          "base_uri": "https://localhost:8080/"
        }
      },
      "execution_count": null,
      "outputs": [
        {
          "output_type": "stream",
          "name": "stdout",
          "text": [
            "Happy Potter is already borrowed.\n",
            "Inception is already borrowed.\n"
          ]
        }
      ]
    },
    {
      "cell_type": "code",
      "source": [
        "book1.return_item()\n",
        "dvd1.return_item()"
      ],
      "metadata": {
        "id": "t7G7abR7yXqW",
        "outputId": "f72699f2-c3da-4042-99ca-7f9ff47caaf0",
        "colab": {
          "base_uri": "https://localhost:8080/"
        }
      },
      "execution_count": null,
      "outputs": [
        {
          "output_type": "stream",
          "name": "stdout",
          "text": [
            "Happy Potter has been returned.\n",
            "Inception has been returned.\n"
          ]
        }
      ]
    }
  ]
}