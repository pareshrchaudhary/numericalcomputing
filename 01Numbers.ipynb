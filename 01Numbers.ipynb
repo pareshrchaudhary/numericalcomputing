{
  "nbformat": 4,
  "nbformat_minor": 0,
  "metadata": {
    "colab": {
      "provenance": [],
      "authorship_tag": "ABX9TyN4bg/kzsiz6wN9SZuLbV3V",
      "include_colab_link": true
    },
    "kernelspec": {
      "name": "python3",
      "display_name": "Python 3"
    },
    "language_info": {
      "name": "python"
    }
  },
  "cells": [
    {
      "cell_type": "markdown",
      "metadata": {
        "id": "view-in-github",
        "colab_type": "text"
      },
      "source": [
        "<a href=\"https://colab.research.google.com/github/pareshrchaudhary/numericalmethods/blob/main/01Numbers.ipynb\" target=\"_parent\"><img src=\"https://colab.research.google.com/assets/colab-badge.svg\" alt=\"Open In Colab\"/></a>"
      ]
    },
    {
      "cell_type": "markdown",
      "source": [
        "# This notebook is all about representation of numbers on computers."
      ],
      "metadata": {
        "id": "zl8NlU8SOSOB"
      }
    },
    {
      "cell_type": "markdown",
      "source": [
        "We have 32 or 64 bits binary representation of numbers on the computer but using just binary numbers is not precise and also the range to represent the numbers is limited.\n",
        "\n",
        "Floating point number representation is a way to use same 32 or 64 bits cleverly. It has **sign indicator** (+ or -), **exponent** (power of 2) and **fraction** (coefficient of exponent) \n",
        "\n",
        "\n",
        "Python utilizes IEEE754 double precision 64 total bits to represent floats.\n",
        "\n",
        "1 bit -> $s$ sign indicator\n",
        "\n",
        "11 bits -> $e$ exponent ($ 2^{11} $ 2048 values)\n",
        "\n",
        "52 bits -> $f$ fraction \n",
        "\n",
        "To increase the precision, some of the above values must represent negative exponents i.e numbers between 0 and 1.to solve this ${e-1023}$ is done to normalize it.\n",
        "\n",
        "To represent fractions i.e numbers between 1 and 2 the leading term will always be 1 and it is waste of bits to store it so it is dropped.\n",
        "\n",
        "\\begin{align*}\n",
        "\\boxed{n = (-1)^s \\cdot 2^{e-1023} \\cdot (1+f)}\n",
        "\\end{align*}\n",
        "\n",
        "\n"
      ],
      "metadata": {
        "id": "ow-s8AmpOeAf"
      }
    },
    {
      "cell_type": "code",
      "execution_count": 1,
      "metadata": {
        "id": "xOaBOM_OFG1k",
        "outputId": "3aa6e7bc-730c-4a08-a9d8-a57f2af116b5",
        "colab": {
          "base_uri": "https://localhost:8080/"
        }
      },
      "outputs": [
        {
          "output_type": "execute_result",
          "data": {
            "text/plain": [
              "sys.float_info(max=1.7976931348623157e+308, max_exp=1024, max_10_exp=308, min=2.2250738585072014e-308, min_exp=-1021, min_10_exp=-307, dig=15, mant_dig=53, epsilon=2.220446049250313e-16, radix=2, rounds=1)"
            ]
          },
          "metadata": {},
          "execution_count": 1
        }
      ],
      "source": [
        "#float information in python\n",
        "import sys\n",
        "sys.float_info"
      ]
    },
    {
      "cell_type": "markdown",
      "source": [
        "### 1) **Sign of float**\n",
        "\n",
        "float 9.0 and -9.0 in IEEE754 "
      ],
      "metadata": {
        "id": "zaNQed6-kFky"
      }
    },
    {
      "cell_type": "code",
      "source": [
        "import struct\n",
        "\n",
        "# Convert the float value to a bytes object containing its binary representation\n",
        "binary1 = struct.pack('>f', 9.0)\n",
        "binary2 = struct.pack('>f', -9.0)\n",
        "\n",
        "# Extract the sign bit, exponent, and mantissa\n",
        "sign_bit1 = (binary1[0] >> 7) & 1\n",
        "exponent1 = ((binary1[0] & 0b01111111) << 1) | (binary1[1] >> 7)\n",
        "mantissa1 = ((binary1[1] & 0b01111111) << 16) | (binary1[2] << 8) | binary1[3]\n",
        "\n",
        "sign_bit2 = (binary2[0] >> 7) & 1\n",
        "exponent2 = ((binary2[0] & 0b01111111) << 1) | (binary2[1] >> 7)\n",
        "mantissa2 = ((binary2[1] & 0b01111111) << 16) | (binary2[2] << 8) | binary2[3]\n",
        "\n",
        "# Combine the sign bit, exponent, and mantissa into a single binary string\n",
        "binary_string1 = '{0} {1:08b} {2:023b}'.format(sign_bit1, exponent1, mantissa1)\n",
        "binary_string2 = '{0} {1:08b} {2:023b}'.format(sign_bit2, exponent2, mantissa2)\n",
        "print(binary_string1)\n",
        "print(binary_string2)\n",
        "print(\"^\")"
      ],
      "metadata": {
        "id": "BqFnxT6VI9sL",
        "outputId": "07881c40-99ed-4345-c3bb-8f6847a691e2",
        "colab": {
          "base_uri": "https://localhost:8080/"
        }
      },
      "execution_count": 24,
      "outputs": [
        {
          "output_type": "stream",
          "name": "stdout",
          "text": [
            "0 10000010 00100000000000000000000\n",
            "1 10000010 00100000000000000000000\n",
            "^\n"
          ]
        }
      ]
    },
    {
      "cell_type": "markdown",
      "source": [
        "### 2) **Largest and smallest number close to a float**\n",
        "\n",
        "Lets take 9.0 float from above as the float of choice. Since the number is positive sign $s = 0$. The largest power of two smaller than 9.0 is 8 so the exponent is 3, resulting in characteristic equation \n",
        "\n",
        "$ 3 + 1023 = 1026(base10) = 10000010 (base2) $\n",
        "\n",
        "Then the fraction part is \n",
        "\n",
        "$\\frac98 - 1 = 0.875 (base 10) = 1 \\cdot \\frac{1}{2^1} + \\frac{1}{2^2} + \\frac{1}{2^3}  = 00100000000000000000000 (base2)$"
      ],
      "metadata": {
        "id": "ABGzutLQmIXn"
      }
    },
    {
      "cell_type": "markdown",
      "source": [
        "Now next smaller binary number will be 0 10000010 00011111111111111111111"
      ],
      "metadata": {
        "id": "-iY3u3WfvTHa"
      }
    },
    {
      "cell_type": "code",
      "source": [
        "#Next smaller number\n",
        "\n",
        "small = \"01000001000011111111111111111111\"\n",
        "\n",
        "# Convert the binary string to a bytes object\n",
        "binary = int(small, 2).to_bytes(4, byteorder='big')\n",
        "\n",
        "# Unpack the bytes object as a float\n",
        "float_value = struct.unpack('>f', binary)[0]\n",
        "print(float_value)"
      ],
      "metadata": {
        "id": "7VW-jKbwtTb1",
        "outputId": "5861f134-40c1-42cd-ed9a-5980055faf84",
        "colab": {
          "base_uri": "https://localhost:8080/"
        }
      },
      "execution_count": 22,
      "outputs": [
        {
          "output_type": "stream",
          "name": "stdout",
          "text": [
            "8.999999046325684\n"
          ]
        }
      ]
    },
    {
      "cell_type": "markdown",
      "source": [
        "Next largest number will be 0 10000010 00100000000000000000001\n",
        "\n"
      ],
      "metadata": {
        "id": "lIKPjTaGvh_k"
      }
    },
    {
      "cell_type": "code",
      "source": [
        "#Next large number\n",
        "large = \"01000001001000000000000000000001\"\n",
        "\n",
        "# Convert the binary string to a bytes object\n",
        "binary = int(large, 2).to_bytes(4, byteorder='big')\n",
        "\n",
        "# Unpack the bytes object as a float\n",
        "float_value = struct.unpack('>f', binary)[0]\n",
        "print(float_value)"
      ],
      "metadata": {
        "id": "eY6z4K70ubQ6",
        "outputId": "8750702b-926f-432e-ec2c-c6245f14f501",
        "colab": {
          "base_uri": "https://localhost:8080/"
        }
      },
      "execution_count": 30,
      "outputs": [
        {
          "output_type": "stream",
          "name": "stdout",
          "text": [
            "10.000000953674316\n"
          ]
        }
      ]
    },
    {
      "cell_type": "code",
      "source": [],
      "metadata": {
        "id": "fZYVWTjfwiSO"
      },
      "execution_count": null,
      "outputs": []
    }
  ]
}