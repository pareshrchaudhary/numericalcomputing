{
  "nbformat": 4,
  "nbformat_minor": 0,
  "metadata": {
    "colab": {
      "provenance": [],
      "authorship_tag": "ABX9TyOWNT9LctrecXEatm1+mC13",
      "include_colab_link": true
    },
    "kernelspec": {
      "name": "python3",
      "display_name": "Python 3"
    },
    "language_info": {
      "name": "python"
    }
  },
  "cells": [
    {
      "cell_type": "markdown",
      "metadata": {
        "id": "view-in-github",
        "colab_type": "text"
      },
      "source": [
        "<a href=\"https://colab.research.google.com/github/pareshrchaudhary/numericalmethods/blob/main/Numbers.ipynb\" target=\"_parent\"><img src=\"https://colab.research.google.com/assets/colab-badge.svg\" alt=\"Open In Colab\"/></a>"
      ]
    },
    {
      "cell_type": "markdown",
      "source": [
        "# This notebook is all about representation of numbers on computers."
      ],
      "metadata": {
        "id": "zl8NlU8SOSOB"
      }
    },
    {
      "cell_type": "code",
      "source": [
        "import sys\n",
        "import struct\n",
        "import numpy as np"
      ],
      "metadata": {
        "id": "c_rRe4Pf2s9X"
      },
      "execution_count": null,
      "outputs": []
    },
    {
      "cell_type": "markdown",
      "source": [
        "Note the system properties belowl. These properties will be addressed below in detail."
      ],
      "metadata": {
        "id": "fh3Z4uJY7_LO"
      }
    },
    {
      "cell_type": "code",
      "execution_count": null,
      "metadata": {
        "id": "xOaBOM_OFG1k",
        "colab": {
          "base_uri": "https://localhost:8080/"
        },
        "outputId": "fbb8ac32-1b14-4b34-952a-4c198f01a9c0"
      },
      "outputs": [
        {
          "output_type": "execute_result",
          "data": {
            "text/plain": [
              "sys.float_info(max=1.7976931348623157e+308, max_exp=1024, max_10_exp=308, min=2.2250738585072014e-308, min_exp=-1021, min_10_exp=-307, dig=15, mant_dig=53, epsilon=2.220446049250313e-16, radix=2, rounds=1)"
            ]
          },
          "metadata": {},
          "execution_count": 3
        }
      ],
      "source": [
        "#float information in python\n",
        "sys.float_info"
      ]
    },
    {
      "cell_type": "markdown",
      "source": [
        "We have 32 or 64 bits binary representation of numbers on the computer but using just binary numbers is not precise and also the range to represent the numbers is limited.\n",
        "\n",
        "Floating point number representation is a way to use same 32 or 64 bits cleverly. It has **sign indicator** (+ or -), **exponent** (power of 2) and **fraction** (coefficient of exponent)\n",
        "\n",
        "\n",
        "Python utilizes IEEE754 double precision 64 total bits to represent floats.\n",
        "\n",
        "1 bit -> $s$ sign indicator\n",
        "\n",
        "11 bits -> $e$ exponent ($ 2^{11} $ 2048 values)\n",
        "\n",
        "52 bits -> $f$ fraction\n",
        "\n",
        "To increase the precision, some of the above values must represent negative exponents i.e numbers between 0 and 1.to solve this ${e-1023}$ is done to normalize it.\n",
        "\n",
        "To represent fractions i.e numbers between 1 and 2 the leading term will always be 1 and it is waste of bits to store it so it is dropped.\n",
        "\n",
        "\\begin{align*}\n",
        "\\boxed{n = (-1)^s \\cdot 2^{e-1023} \\cdot (1+f)}\n",
        "\\end{align*}\n",
        "\n",
        "\n"
      ],
      "metadata": {
        "id": "ow-s8AmpOeAf"
      }
    },
    {
      "cell_type": "markdown",
      "source": [
        "### 1) **Sign of float**\n",
        "\n",
        "float 9.0 and -9.0 in IEEE754"
      ],
      "metadata": {
        "id": "zaNQed6-kFky"
      }
    },
    {
      "cell_type": "code",
      "source": [
        "# Convert the float value to a bytes object containing its binary representation\n",
        "binary1 = struct.pack('>f', 9.0)\n",
        "binary2 = struct.pack('>f', -9.0)\n",
        "\n",
        "# Extract the sign bit, exponent, and mantissa\n",
        "sign_bit1 = (binary1[0] >> 7) & 1\n",
        "exponent1 = ((binary1[0] & 0b01111111) << 1) | (binary1[1] >> 7)\n",
        "mantissa1 = ((binary1[1] & 0b01111111) << 16) | (binary1[2] << 8) | binary1[3]\n",
        "\n",
        "sign_bit2 = (binary2[0] >> 7) & 1\n",
        "exponent2 = ((binary2[0] & 0b01111111) << 1) | (binary2[1] >> 7)\n",
        "mantissa2 = ((binary2[1] & 0b01111111) << 16) | (binary2[2] << 8) | binary2[3]\n",
        "\n",
        "# Combine the sign bit, exponent, and mantissa into a single binary string\n",
        "binary_string1 = '{0} {1:08b} {2:023b}'.format(sign_bit1, exponent1, mantissa1)\n",
        "binary_string2 = '{0} {1:08b} {2:023b}'.format(sign_bit2, exponent2, mantissa2)\n",
        "print(binary_string1)\n",
        "print(binary_string2)\n",
        "print(\"^\")"
      ],
      "metadata": {
        "colab": {
          "base_uri": "https://localhost:8080/"
        },
        "id": "BqFnxT6VI9sL",
        "outputId": "ea7872e9-a124-49bb-f646-38efb91e3510"
      },
      "execution_count": null,
      "outputs": [
        {
          "output_type": "stream",
          "name": "stdout",
          "text": [
            "0 10000010 00100000000000000000000\n",
            "1 10000010 00100000000000000000000\n",
            "^\n"
          ]
        }
      ]
    },
    {
      "cell_type": "markdown",
      "source": [
        "### 2) **Largest and smallest number close to a float**\n",
        "\n",
        "Lets take 9.0 float from above as the float of choice. Since the number is positive sign $s = 0$. The largest power of two smaller than 9.0 is 8 so the exponent is 3, resulting in characteristic equation\n",
        "\n",
        "$ 3 + 1023 = 1026(base10) = 10000010 (base2) $\n",
        "\n",
        "Then the fraction part is\n",
        "\n",
        "$\\frac98 - 1 = 0.875 (base 10) = 1 \\cdot \\frac{1}{2^1} + \\frac{1}{2^2} + \\frac{1}{2^3}  = 00100000000000000000000 (base2)$"
      ],
      "metadata": {
        "id": "ABGzutLQmIXn"
      }
    },
    {
      "cell_type": "markdown",
      "source": [
        "Now next smaller binary number will be 0 10000010 00011111111111111111111"
      ],
      "metadata": {
        "id": "-iY3u3WfvTHa"
      }
    },
    {
      "cell_type": "code",
      "source": [
        "#Next smaller number\n",
        "\n",
        "small = \"01000001000011111111111111111111\"\n",
        "\n",
        "# Convert the binary string to a bytes object\n",
        "binary = int(small, 2).to_bytes(4, byteorder='big')\n",
        "\n",
        "# Unpack the bytes object as a float\n",
        "float_value = struct.unpack('>f', binary)[0]\n",
        "print(float_value)"
      ],
      "metadata": {
        "colab": {
          "base_uri": "https://localhost:8080/"
        },
        "id": "7VW-jKbwtTb1",
        "outputId": "789ee01a-5dfa-405b-d6a9-8d40697030f3"
      },
      "execution_count": null,
      "outputs": [
        {
          "output_type": "stream",
          "name": "stdout",
          "text": [
            "8.999999046325684\n"
          ]
        }
      ]
    },
    {
      "cell_type": "markdown",
      "source": [
        "Next largest number will be 0 10000010 00100000000000000000001\n",
        "\n"
      ],
      "metadata": {
        "id": "lIKPjTaGvh_k"
      }
    },
    {
      "cell_type": "code",
      "source": [
        "#Next large number\n",
        "large = \"01000001000100000000000000000001\"\n",
        "\n",
        "# Convert the binary string to a bytes object\n",
        "binary = int(large, 2).to_bytes(4, byteorder='big')\n",
        "\n",
        "# Unpack the bytes object as a float\n",
        "float_value = struct.unpack('>f', binary)[0]\n",
        "print(float_value)"
      ],
      "metadata": {
        "colab": {
          "base_uri": "https://localhost:8080/"
        },
        "id": "eY6z4K70ubQ6",
        "outputId": "a86a3b5c-5527-40b3-f5f7-25e4732274b7"
      },
      "execution_count": null,
      "outputs": [
        {
          "output_type": "stream",
          "name": "stdout",
          "text": [
            "9.000000953674316\n"
          ]
        }
      ]
    },
    {
      "cell_type": "markdown",
      "source": [
        "Any computation that falls in between $8.999999046325684$ and $9.000000953674316$ will be assigned 9.0.\n",
        "\n",
        "IEEE754 number represents number 9.0 along with all the real numbers halfway between its immediate neighbors.\n",
        "\n",
        "The distance between one number to the next is called gap. As the fraction is multiplied by $ 2^{e-1023}$, the gap grows as the number represented grows."
      ],
      "metadata": {
        "id": "g6_B1mfLxhcH"
      }
    },
    {
      "cell_type": "code",
      "source": [
        "# gap at 9.0\n",
        "# exponent at 9.0 is 3\n",
        "x = 9.0\n",
        "gap = np.spacing(x)\n",
        "print(gap)"
      ],
      "metadata": {
        "id": "w1koskGbz4Td",
        "outputId": "ff2b42c7-fdb3-4298-c1c2-d50f85dfb060",
        "colab": {
          "base_uri": "https://localhost:8080/"
        }
      },
      "execution_count": null,
      "outputs": [
        {
          "output_type": "stream",
          "name": "stdout",
          "text": [
            "1.7763568394002505e-15\n"
          ]
        }
      ]
    },
    {
      "cell_type": "markdown",
      "source": [
        "If we take a number and add half of the gap present at that number into that number then the output will change back to the original number."
      ],
      "metadata": {
        "id": "-hOjn87235ul"
      }
    },
    {
      "cell_type": "code",
      "source": [
        "x = 30.0\n",
        "gap = np.spacing(x)\n",
        "x = x + gap/2\n",
        "\n",
        "print(x)"
      ],
      "metadata": {
        "id": "GuFxJTBN3bsv",
        "outputId": "96243536-d49f-4086-a370-e8591f8da478",
        "colab": {
          "base_uri": "https://localhost:8080/"
        }
      },
      "execution_count": null,
      "outputs": [
        {
          "output_type": "stream",
          "name": "stdout",
          "text": [
            "30.0\n"
          ]
        }
      ]
    },
    {
      "cell_type": "markdown",
      "source": [
        "**Gap grows as the number grows.**\n",
        "\n",
        "$ 2^{e-1023}$ grows as the number grows."
      ],
      "metadata": {
        "id": "NrvORafk2-3A"
      }
    },
    {
      "cell_type": "code",
      "source": [
        "x = 100.0\n",
        "gap = np.spacing(x)\n",
        "print(gap)"
      ],
      "metadata": {
        "id": "KilNPHgE2mbD",
        "outputId": "e717c48e-f8e5-4271-beab-608f8b399f29",
        "colab": {
          "base_uri": "https://localhost:8080/"
        }
      },
      "execution_count": null,
      "outputs": [
        {
          "output_type": "stream",
          "name": "stdout",
          "text": [
            "1.4210854715202004e-14\n"
          ]
        }
      ]
    },
    {
      "cell_type": "code",
      "source": [
        "x = 100000000000.0\n",
        "gap = np.spacing(x)\n",
        "print(gap)"
      ],
      "metadata": {
        "id": "zstakcwl3Dh_",
        "outputId": "dfef6553-cd18-4ce3-813c-55723269c779",
        "colab": {
          "base_uri": "https://localhost:8080/"
        }
      },
      "execution_count": null,
      "outputs": [
        {
          "output_type": "stream",
          "name": "stdout",
          "text": [
            "1.52587890625e-05\n"
          ]
        }
      ]
    },
    {
      "cell_type": "markdown",
      "source": [
        "### Breaking bounds both ways"
      ],
      "metadata": {
        "id": "aqi8UCK_6zpv"
      }
    },
    {
      "cell_type": "markdown",
      "source": [
        "One of the good methods in engineers is strees testing.\n",
        "\n",
        "Lets check IEEE754 at the bundaries. These boundaries are present at e = 20"
      ],
      "metadata": {
        "id": "bRkq1unb7FaT"
      }
    },
    {
      "cell_type": "markdown",
      "source": [
        "#### 1) Underflow\n",
        "\n",
        "Underflow happens when a floating-point number becomes too small to be represented accurately."
      ],
      "metadata": {
        "id": "Ck_Maa6zmwgj"
      }
    },
    {
      "cell_type": "code",
      "source": [
        "x = sys.float_info.min\n",
        "print(x)"
      ],
      "metadata": {
        "id": "BTzohLtwmsPU",
        "outputId": "0a11bb86-a34b-42f7-bb1c-58e774957027",
        "colab": {
          "base_uri": "https://localhost:8080/"
        }
      },
      "execution_count": null,
      "outputs": [
        {
          "output_type": "stream",
          "name": "stdout",
          "text": [
            "2.2250738585072014e-308\n"
          ]
        }
      ]
    },
    {
      "cell_type": "code",
      "source": [
        "small_value = x/2\n",
        "y = x - small_value\n",
        "print(y)"
      ],
      "metadata": {
        "id": "TeZsyWBEpaBE",
        "outputId": "1024a699-9ec4-473b-d28d-9725d93b7ff8",
        "colab": {
          "base_uri": "https://localhost:8080/"
        }
      },
      "execution_count": null,
      "outputs": [
        {
          "output_type": "stream",
          "name": "stdout",
          "text": [
            "1.1125369292536007e-308\n"
          ]
        }
      ]
    },
    {
      "cell_type": "code",
      "source": [
        "small_value = x\n",
        "y = x - small_value\n",
        "print(y)"
      ],
      "metadata": {
        "id": "gYJlUabwtdF8",
        "outputId": "a293fe5d-d8e5-4848-e9d4-97c3438ff379",
        "colab": {
          "base_uri": "https://localhost:8080/"
        }
      },
      "execution_count": null,
      "outputs": [
        {
          "output_type": "stream",
          "name": "stdout",
          "text": [
            "0.0\n"
          ]
        }
      ]
    },
    {
      "cell_type": "markdown",
      "source": [
        "#### 2) Overflow\n",
        "\n",
        "Overflow happens when a number becomes too large to be represented accurately."
      ],
      "metadata": {
        "id": "_EiCfdzonAB3"
      }
    },
    {
      "cell_type": "code",
      "source": [
        "x = sys.float_info.max\n",
        "print(x)"
      ],
      "metadata": {
        "id": "A792ZI_U7E25",
        "outputId": "6e7f8fb6-3ef3-4b34-ad23-d6f966b8a73c",
        "colab": {
          "base_uri": "https://localhost:8080/"
        }
      },
      "execution_count": null,
      "outputs": [
        {
          "output_type": "stream",
          "name": "stdout",
          "text": [
            "1.7976931348623157e+308\n"
          ]
        }
      ]
    },
    {
      "cell_type": "code",
      "source": [
        "small_value = 1e291\n",
        "y = x + small_value\n",
        "print(y)"
      ],
      "metadata": {
        "id": "TFyzl9vunlVI",
        "outputId": "16f4ad95-c580-4391-ac93-eae966f4eeba",
        "colab": {
          "base_uri": "https://localhost:8080/"
        }
      },
      "execution_count": null,
      "outputs": [
        {
          "output_type": "stream",
          "name": "stdout",
          "text": [
            "1.7976931348623157e+308\n"
          ]
        }
      ]
    },
    {
      "cell_type": "code",
      "source": [
        "small_value = 1e292\n",
        "y = x + small_value\n",
        "print(y)"
      ],
      "metadata": {
        "id": "DWKmlSoHrAyk",
        "outputId": "d20adab1-2492-4604-a72e-3fe95c8caef4",
        "colab": {
          "base_uri": "https://localhost:8080/"
        }
      },
      "execution_count": null,
      "outputs": [
        {
          "output_type": "stream",
          "name": "stdout",
          "text": [
            "inf\n"
          ]
        }
      ]
    }
  ]
}